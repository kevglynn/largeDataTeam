{
 "cells": [
  {
   "cell_type": "markdown",
   "metadata": {},
   "source": [
    "#LOAD DATA WITH SPARK (25% of the directory 0)"
   ]
  },
  {
   "cell_type": "code",
   "execution_count": 21,
   "metadata": {
    "collapsed": true
   },
   "outputs": [],
   "source": [
    "data = sc.wholeTextFiles(\"test_bed_data\")"
   ]
  },
  {
   "cell_type": "code",
   "execution_count": 22,
   "metadata": {
    "collapsed": true
   },
   "outputs": [],
   "source": [
    "from bs4 import BeautifulSoup\n",
    "def parser(x):\n",
    "    return BeautifulSoup(x, 'html.parser')"
   ]
  },
  {
   "cell_type": "markdown",
   "metadata": {},
   "source": [
    "#Mapped the data using Beautifulsoup to get the text"
   ]
  },
  {
   "cell_type": "code",
   "execution_count": 23,
   "metadata": {
    "collapsed": true
   },
   "outputs": [],
   "source": [
    "mapped_data = data.map(lambda x: [x[0].split(\"/\")[-1], parser(x[1]).get_text(), \"train\" if x[0].split(\"/\")[-1] in t else \"test\", depth(x[1]) ])"
   ]
  },
  {
   "cell_type": "markdown",
   "metadata": {},
   "source": [
    "#Keep only data from the training set"
   ]
  },
  {
   "cell_type": "code",
   "execution_count": 24,
   "metadata": {
    "collapsed": true
   },
   "outputs": [],
   "source": [
    "mapped_train_data = mapped_data.filter( lambda x: x[2]==\"train\")"
   ]
  },
  {
   "cell_type": "code",
   "execution_count": 25,
   "metadata": {
    "collapsed": false
   },
   "outputs": [
    {
     "data": {
      "text/plain": [
       "[[u'1000188_raw_html.txt',\n",
       "  u'\\n\\n\\n\\n\\n   The impact of shadow IT\\n  \\n\\n\\n\\n\\n\\n\\n\\n\\n\\n\\n\\n\\n\\n\\n\\n\\n\\n\\n\\n\\n\\n\\n\\n\\n\\n\\n\\n   {\"@context\":\"http:\\\\/\\\\/schema.org\",\"@type\":\"WebSite\",\"url\":\"https:\\\\/\\\\/letstalk.globalservices.bt.com\\\\/en\\\\/\",\"name\":\"BT Let&#039;s Talk\"}\\n  \\n\\n\\n\\n\\n\\n   window._wpemojiSettings = {\"baseUrl\":\"https:\\\\/\\\\/s.w.org\\\\/images\\\\/core\\\\/emoji\\\\/72x72\\\\/\",\"ext\":\".png\",\"source\":{\"concatemoji\":\"https:\\\\/\\\\/letstalk.globalservices.bt.com\\\\/en\\\\/wp-includes\\\\/js\\\\/wp-emoji-release.min.js?ver=4.2.2\"}};\\n\\t\\t\\t!function(a,b,c){function d(a){var c=b.createElement(\"canvas\"),d=c.getContext&amp;&amp;c.getContext(\"2d\");return d&amp;&amp;d.fillText?(d.textBaseline=\"top\",d.font=\"600 32px Arial\",\"flag\"===a?(d.fillText(String.fromCharCode(55356,56812,55356,56807),0,0),c.toDataURL().length&gt;3e3):(d.fillText(String.fromCharCode(55357,56835),0,0),0!==d.getImageData(16,16,1,1).data[0])):!1}function e(a){var c=b.createElement(\"script\");c.src=a,c.type=\"text/javascript\",b.getElementsByTagName(\"head\")[0].appendChild(c)}var f,g;c.supports={simple:d(\"simple\"),flag:d(\"flag\")},c.DOMReady=!1,c.readyCallback=function(){c.DOMReady=!0},c.supports.simple&amp;&amp;c.supports.flag||(g=function(){c.readyCallback()},b.addEventListener?(b.addEventListener(\"DOMContentLoaded\",g,!1),a.addEventListener(\"load\",g,!1)):(a.attachEvent(\"onload\",g),b.attachEvent(\"onreadystatechange\",function(){\"complete\"===b.readyState&amp;&amp;c.readyCallback()})),f=c.source||{},f.concatemoji?e(f.concatemoji):f.wpemoji&amp;&amp;f.twemoji&amp;&amp;(e(f.twemoji),e(f.wpemoji)))}(window,document,window._wpemojiSettings);\\n  \\n\\n   img.wp-smiley,\\nimg.emoji {\\n\\tdisplay: inline !important;\\n\\tborder: none !important;\\n\\tbox-shadow: none !important;\\n\\theight: 1em !important;\\n\\twidth: 1em !important;\\n\\tmargin: 0 .07em !important;\\n\\tvertical-align: -0.1em !important;\\n\\tbackground: none !important;\\n\\tpadding: 0 !important;\\n}\\n  \\n\\n\\n\\n\\n\\n\\n\\n\\n\\n\\n\\n\\n\\n\\n\\n\\n   #header { background: url(https://letstalk.globalservices.bt.com/en/wp-content/uploads/2013/11/hero-viewpoint.jpg) no-repeat !important; }\\n  \\n\\n\\n\\n   #header { height:90px; background-image:none ! important; background-color:#000000 ! important; } #title-area { width: 622px; float:left; padding:0 0 0 25px; } #title { padding-top: 25px; } #title a, #title a:hover { font-size: 24px; } #description { font-size: 18px; color: #CCCCCC ! important; padding-left: 0px; width: 620px; } #header .wrap .widget-area { float: left; margin: 25px 0 0 0; padding: 0 20px; width: 200px; position: static;} #header .wrap .widget-area a { float: left; }\\n  \\n\\n\\n\\n\\n\\n   .vvqbox { display: block; max-width: 100%; visibility: visible !important; margin: 10px auto; } .vvqbox img { max-width: 100%; height: 100%; } .vvqbox object { max-width: 100%; }\\n  \\n\\n   // &lt;![CDATA[\\r\\n\\tvar vvqflashvars = {};\\r\\n\\tvar vvqparams = { wmode: \"opaque\", allowfullscreen: \"true\", allowscriptaccess: \"always\" };\\r\\n\\tvar vvqattributes = {};\\r\\n\\tvar vvqexpressinstall = \"https://letstalk.globalservices.bt.com/en/wp-content/plugins/vipers-video-quicktags/resources/expressinstall.swf\";\\r\\n// ]]&gt;\\n  \\n\\n\\n\\n\\n\\n\\n   &lt;!--\\n/* You may give each page an identifying name, server, and channel on the next lines. */\\ns.pageName=document.title;\\ns.server=\"\";\\ns.pageType=\"\";\\ns.prop51=document.location;\\ns.prop2=\"\";\\ns.prop3=\"\";\\ns.prop4=\"\";\\ns.prop5=\"\";\\ns.prop54=\"global,ict-management\";\\ns.prop53=\"art-of-connecting,creative-cio,shadow-it\";\\n/* Conversion Variables */\\ns.prop52=\"\";\\ns.campaign=\"\";\\ns.state=\"\";\\ns.zip=\"\";\\ns.events=\"\";\\ns.products=\"\";\\ns.purchaseID=\"\";\\ns.eVar1=\"\";\\ns.eVar2=\"\";\\ns.eVar3=\"\";\\ns.eVar4=\"\";\\ns.eVar5=\"\";\\n/************* DO NOT ALTER ANYTHING BELOW THIS LINE ! **************/\\nvar s_code=s.t();if(s_code)document.write(s_code)//--&gt;\\n  \\n\\n   &lt;!--\\nif(navigator.appVersion.indexOf(\\'MSIE\\')&gt;=0)document.write(unescape(\\'%3C\\')+\\'\\\\!-\\'+\\'-\\')\\n//--&gt;\\n  \\n\\n\\n\\n\\n\\n\\n\\n\\n\\n\\n\\n\\n         BT.com\\n        \\n\\n\\n\\n         At home\\n        \\n\\n\\n\\n         Business\\n        \\n\\n\\n\\n         UK Large business & public sector\\n        \\n\\n\\n\\n         BT Group\\n        \\n\\n\\n\\n\\n\\n         Choose country or region\\n        \\n\\n\\n\\n\\n\\n\\n\\n\\n\\n\\n\\n       UK Large business & public sector\\n      \\n\\n\\n\\n\\n\\n\\n\\n\\n          Home\\n         \\n\\n\\n\\n\\n\\n          Products & services\\n         \\n\\n\\n\\n\\n\\n          Solutions\\n         \\n\\n\\n\\n\\n\\n          Industries\\n         \\n\\n\\n\\n\\n\\n          Why BT\\n         \\n\\n\\n\\n\\n\\n          Let\\'s Talk\\n         \\n\\n\\n\\n\\n\\n          My Account\\n         \\n\\n\\n\\n\\n\\n\\n\\n            Site search:\\n           \\n\\n\\n\\n\\n\\n\\n            Reset search:\\n           \\n\\n\\n\\n\\n\\n         function checkSearchTerm(a,b)\\r\\n              {\\r\\n                     var searchTerm = encodeURI(document.getElementById(b).value);\\r\\n            document.getElementById(a).value=searchTerm;\\r\\n        }\\n        \\n\\n\\n\\n\\n\\n\\n\\n\\n\\n\\n\\n           BT Lets Talk Blog  home\\n          \\n\\n\\n\\n           Industry\\n          \\n\\n\\n\\n             Financial Services\\n            \\n\\n\\n\\n             Government\\n            \\n\\n\\n\\n             Health\\n            \\n\\n\\n\\n             Public sector\\n            \\n\\n\\n\\n             Retail\\n            \\n\\n\\n\\n\\n\\n           Categories\\n          \\n\\n\\n\\n             Agile & Flexible Working\\n            \\n\\n\\n\\n             Cloud Computing\\n            \\n\\n\\n\\n             Contact centres\\n            \\n\\n\\n\\n             CSR & Sustainability\\n            \\n\\n\\n\\n             ICT Management\\n            \\n\\n\\n\\n             Innovation\\n            \\n\\n\\n\\n             Inside Technology\\n            \\n\\n\\n\\n             IT Infrastructure\\n            \\n\\n\\n\\n             Mobile\\n            \\n\\n\\n\\n             Security\\n            \\n\\n\\n\\n             Supply Chain\\n            \\n\\n\\n\\n             Tele Presence\\n            \\n\\n\\n\\n             Unified Communications\\n            \\n\\n\\n\\n             Virtualization\\n            \\n\\n\\n\\n\\n\\n\\n\\n\\n\\n\\n\\n           Blog Directory\\n          \\n\\n\\n\\n\\n\\n            BT Global Services Blogs - English\\n           \\n\\n\\n\\n\\n               BT Let\\'s Talk\\n              \\n\\n\\n              Using BT\\'s global grasp of business to bring you the insight you need to stay ahead\\n             \\n\\n\\n               Let\\'s Talk Security\\n              \\n\\n\\n              Designed to engage the community in dialog, it offers real-life scenarios about security issues that impact business continuity and the bottom line.\\n             \\n\\n\\n\\n\\n               Let\\'s Talk GTM\\n              \\n\\n\\n              Using BT\\'s global grasp of business to bring you the insight for the telecommunications industry worldwide\\n             \\n\\n\\n\\n\\n               Let\\'s Talk Asia Network Perspectives\\n              \\n\\n\\n              BT Global Services updates for Asia Pac customers, partners & stakeholders\\n             \\n\\n\\n\\n\\n\\n              BT Global Services Blogs - Espaol\\n             \\n\\n\\n               BT Let\\'s Talk\\n              \\n\\n\\n              Explore todo el potencial de su organizacin\\n             \\n\\n\\n\\n              BT Global Services Blogs - Portugus\\n             \\n\\n\\n               BT Let\\'s Talk\\n              \\n\\n\\n              Explore todo o potencial de sua organizao\\n             \\n\\n\\n\\n              BT Global Services Blogs - Italiano\\n             \\n\\n\\n               BT Let\\'s Talk\\n              \\n\\n\\n              Il blog di BT Italia\\n             \\n\\n\\n\\n\\n\\n\\n\\n\\n\\n\\n\\n\\n\\n\\n\\n\\n\\n\\n           Home\\n          \\n\\n\\n\\n\\n           Let\\'s Talk\\n          \\n\\n\\n\\n           BT Let\\'s Talk Blog\\n          \\n\\n\\n          Shadow IT total eclipse?\\n         \\n\\n\\n\\n\\n\\n\\n\\n\\n\\n\\n              BT Let\\'s Talk\\n             \\n\\n\\n\\n\\n\\n\\n             Subscribe to feed\\n            \\n\\n\\n\\n\\n\\n\\n\\n\\n\\n\\n\\n              Shadow IT total eclipse?\\n             \\n\\n\\n               April 24, 2015\\n              \\n\\n\\n\\n                 BT Lets Talk\\n                \\n\\n\\n\\n\\n\\n                 0\\n                \\n\\n\\n\\n\\n\\n\\n                The shade cast by shadow IT across the light of traditional IT purchasing methods is lengthening; so how close are we to a total eclipse?\\n               \\n\\n\\n\\n                Gartner has indicated that in terms of shadow IT  where IT tools are used for business purposes but without the sanction of the central IT department \\n                \\n                 by 2017 the CMO will become a bigger buyer of IT than the CIO\\n                \\n                .\\n               \\n\\n\\n\\n\\n\\n\\n               Shadow IT is definitely on the creep;\\n               \\n                recent BT research\\n               \\n               shows that three quarters of IT decision makers know that shadow IT happens within their organisation  and its making them uneasy. In bottom line terms, its costing them: research reveals that the central IT budget is spending on average between 160,000 and 500,000 more on security, plugging the gaps created by shadow IT and protecting the entire IT infrastructure as well as the organisations data.\\n              \\n\\n               But should shadow IT be a cause of serious concern for the CIO  or be embraced as a significant opportunity? One in seven senior IT decision-makers agree that letting go of some of the more traditional aspects of technology purchasing frees up their CIO to take on a more creative and business orientated role. But that doesnt mean they can forget about security. With their panoramic view of how technology is being used across the whole organisation, CIOs are ideally placed to spot gaps in their organisations cyber defences  and decide how best to plug them.\\n              \\n\\n\\n                Have a look at our infographic below to see the statistics for yourself and to find out how creativity is, more than ever before, key to the success of the CIO.\\n               \\n\\n\\n\\n\\n\\n\\n\\n\\n               Filed Under:\\n               \\n                Global\\n               \\n               ,\\n               \\n                ICT Management\\n               \\n\\n\\n               Tagged With:\\n               \\n                Art of connecting\\n               \\n               ,\\n               \\n                Creative CIO\\n               \\n               ,\\n               \\n                shadow IT\\n               \\n\\n\\n\\n\\n\\n\\n\\n              Speak Your Mind\\n              \\n\\n                Cancel reply\\n               \\n\\n\\n\\n\\n\\n\\n                Name\\n               \\n\\n                *\\n               \\n\\n\\n\\n\\n                Email\\n               \\n\\n                *\\n               \\n\\n\\n\\n\\n                Website\\n               \\n\\n\\n\\n               \\n\\n\\n\\n\\n\\n\\n\\n\\n\\n\\n\\n\\n\\n\\n\\n\\n\\n\\n\\n\\n\\n\\n\\n\\n\\n\\n               Advanced search\\n              \\n\\n\\n\\n\\n\\n\\n\\n\\n\\n\\n\\n\\n\\n\\n\\n\\n\\n\\n\\n\\n\\n\\n\\n\\n\\n\\n\\n\\n                Featured posts\\n               \\n\\n\\n\\n\\n\\n\\n                  Keep PACE with cyber threats\\n                 \\n\\n\\n                 Security is changing because the threat is \\n                 \\n                  [Read more...]\\n                 \\n\\n\\n\\n\\n\\n\\n\\n\\n                  Harnessing the power of Big Data with the Office for National Statistics\\n                 \\n\\n\\n                 By Julie Tankard, VP Government & Police \\n                 \\n                  [Read more...]\\n                 \\n\\n\\n\\n\\n\\n\\n\\n\\n                  Guiding the journey to the cloud\\n                 \\n\\n\\n                 Thinking about how cloud might help transform your \\n                 \\n                  [Read more...]\\n                 \\n\\n\\n\\n\\n\\n\\n\\n                Tag cloud\\n               \\n\\n\\n                 agile working\\n                \\n\\n                 Art of connecting\\n                \\n\\n                 Better Future\\n                \\n\\n                 beyond your device\\n                \\n\\n                 BT Assure\\n                \\n\\n                 BT Connect\\n                \\n\\n                 BT Contact\\n                \\n\\n                 BYOD\\n                \\n\\n                 cloud\\n                \\n\\n                 cloud computing\\n                \\n\\n                 collaboration\\n                \\n\\n                 conferencing\\n                \\n\\n                 connecting for a better future\\n                \\n\\n                 contact centres\\n                \\n\\n                 CRM\\n                \\n\\n                 customer experience\\n                \\n\\n                 customer service\\n                \\n\\n                 cyber crime\\n                \\n\\n                 Finance\\n                \\n\\n                 flexible working\\n                \\n\\n                 global\\n                \\n\\n                 global economy\\n                \\n\\n                 Health\\n                \\n\\n                 innovation\\n                \\n\\n                 intelligent networks\\n                \\n\\n                 IT infrastructure\\n                \\n\\n                 IT Strategy\\n                \\n\\n                 mobile devices\\n                \\n\\n                 mobility\\n                \\n\\n                 Networks\\n                \\n\\n                 nhs\\n                \\n\\n                 Nicola Millard\\n                \\n\\n                 Olympics\\n                \\n\\n                 PSN\\n                \\n\\n                 public sector\\n                \\n\\n                 public services\\n                \\n\\n                 reshaping public service\\n                \\n\\n                 retail\\n                \\n\\n                 security\\n                \\n\\n                 smartphones\\n                \\n\\n                 social media\\n                \\n\\n                 UCC\\n                \\n\\n                 unified communications\\n                \\n\\n                 video conferencing\\n                \\n\\n                 white paper\\n                \\n\\n\\n\\n\\n\\n\\n\\n\\n\\n\\n\\n\\n\\n\\n\\n\\n\\n\\n\\n\\n\\n\\n\\n\\n\\n\\n\\n\\n\\n         Geschftsbedingungen\\n        \\n\\n\\n\\n         Legal disclaimer\\n        \\n\\n\\n\\n         Privacy policy & cookies\\n        \\n\\n\\n\\n         Accessibility\\n        \\n\\n\\n\\n         Register a complaint\\n        \\n\\n\\n\\n         Contact us\\n        \\n\\n\\n\\n         Feedback\\n        \\n\\n\\n\\n         Mobile site\\n        \\n\\n\\n\\n\\n          Site map\\n         \\n\\n\\n\\n\\n\\n\\n\\n\\n\\n\\n\\n\\n\\n\\n\\n\\n\\n\\n\\n\\n\\n\\n\\n\\n\\n\\n\\n\\n\\n\\n\\n    $(document).ready(function(){\\t\\t\\t \\r\\n\\t\\t\\t \\r\\n\\t\\t\\t\\t $(\\'span.post-comments\\').css(\\'display\\',\\'none\\');\\r\\n\\t\\t\\t\\t \\r\\n\\t\\t\\t\\t var prtcl = window.location.protocol;\\t\\t\\t\\t\\t\\t \\r\\n\\t\\t\\t\\t $(\\'head\\').append(\\'&lt;link rel=\"stylesheet\" href=\"\\'+prtcl+\\'//www.globalservices.bt.com/static/media_structure/common/gswuplift/global_services/assets/css/cookies.css\" type=\"text/css\" /&gt;\\');                     \\r\\n\\t             $(\".iframe\").colorbox({iframe:true, width:1050, height:800, scrolling: true});      \\r\\n\\t\\t\\t\\t \\r\\n     \\r\\n             });\\r\\n \\r\\n \\t\\t\\t\\t$(document).ready(function(){\\t\\t\\t \\r\\n\\t\\t\\t \\r\\n\\t\\t\\t\\t \\t$(\\'#respond\\').css(\\'display\\',\\'none\\');\\r\\n\\t\\t\\t\\t \\r\\n\\t\\t\\t\\t });\\n   \\n\\n\\n\\n\\n\\n\\n\\n\\n\\n\\n\\n\\n\\n',\n",
       "  'train']]"
      ]
     },
     "execution_count": 25,
     "metadata": {},
     "output_type": "execute_result"
    }
   ],
   "source": [
    "mapped_train_data.take(1)"
   ]
  },
  {
   "cell_type": "markdown",
   "metadata": {},
   "source": [
    "#Import the RDD to SFrame"
   ]
  },
  {
   "cell_type": "code",
   "execution_count": 2,
   "metadata": {
    "collapsed": true
   },
   "outputs": [],
   "source": [
    "import graphlab as gl"
   ]
  },
  {
   "cell_type": "code",
   "execution_count": 26,
   "metadata": {
    "collapsed": false
   },
   "outputs": [],
   "source": [
    "sf = gl.SFrame.from_rdd(mapped_train_data)"
   ]
  },
  {
   "cell_type": "markdown",
   "metadata": {},
   "source": [
    "#ADD some features to the SFrame"
   ]
  },
  {
   "cell_type": "code",
   "execution_count": 66,
   "metadata": {
    "collapsed": true
   },
   "outputs": [],
   "source": [
    "sf['file'] = sf['X1'].apply(lambda x: x[0] )\n",
    "sf['html'] = sf['X1'].apply(lambda x: x[1].strip().replace(\"  \", \" \" ))\n",
    "sf['train'] = sf['X1'].apply(lambda x: x[2])"
   ]
  },
  {
   "cell_type": "code",
   "execution_count": 29,
   "metadata": {
    "collapsed": false
   },
   "outputs": [
    {
     "data": {
      "text/html": [
       "<div style=\"max-height:1000px;max-width:1500px;overflow:auto;\"><table frame=\"box\" rules=\"cols\">\n",
       "    <tr>\n",
       "        <th style=\"padding-left: 1em; padding-right: 1em; text-align: center\">X1</th>\n",
       "        <th style=\"padding-left: 1em; padding-right: 1em; text-align: center\">files</th>\n",
       "        <th style=\"padding-left: 1em; padding-right: 1em; text-align: center\">html</th>\n",
       "        <th style=\"padding-left: 1em; padding-right: 1em; text-align: center\">train</th>\n",
       "    </tr>\n",
       "    <tr>\n",
       "        <td style=\"padding-left: 1em; padding-right: 1em; text-align: center; vertical-align: top\">[1000188_raw_html.txt,<br>\\n\\n\\n\\n\\n   The impact ...</td>\n",
       "        <td style=\"padding-left: 1em; padding-right: 1em; text-align: center; vertical-align: top\">1000188_raw_html.txt</td>\n",
       "        <td style=\"padding-left: 1em; padding-right: 1em; text-align: center; vertical-align: top\">The impact of shadow IT\\n<br>\\n\\n\\n\\n\\n\\n\\n\\n\\n\\n\\ ...</td>\n",
       "        <td style=\"padding-left: 1em; padding-right: 1em; text-align: center; vertical-align: top\">train</td>\n",
       "    </tr>\n",
       "    <tr>\n",
       "        <td style=\"padding-left: 1em; padding-right: 1em; text-align: center; vertical-align: top\">[1000662_raw_html.txt,<br>\\n\\n\\n\\n\\n\\n ...</td>\n",
       "        <td style=\"padding-left: 1em; padding-right: 1em; text-align: center; vertical-align: top\">1000662_raw_html.txt</td>\n",
       "        <td style=\"padding-left: 1em; padding-right: 1em; text-align: center; vertical-align: top\">(function() { var b=windo<br>w,f=\"chrome\",g=\"tick\" ...</td>\n",
       "        <td style=\"padding-left: 1em; padding-right: 1em; text-align: center; vertical-align: top\">train</td>\n",
       "    </tr>\n",
       "    <tr>\n",
       "        <td style=\"padding-left: 1em; padding-right: 1em; text-align: center; vertical-align: top\">[1000860_raw_html.txt,<br>\\n\\n\\n\\n\\n\\n\\n\\n\\n\\n\\n\\n ...</td>\n",
       "        <td style=\"padding-left: 1em; padding-right: 1em; text-align: center; vertical-align: top\">1000860_raw_html.txt</td>\n",
       "        <td style=\"padding-left: 1em; padding-right: 1em; text-align: center; vertical-align: top\">J!NX : J!NX\\n<br>\\n\\n\\n\\n\\n\\n\\n  // ...</td>\n",
       "        <td style=\"padding-left: 1em; padding-right: 1em; text-align: center; vertical-align: top\">train</td>\n",
       "    </tr>\n",
       "    <tr>\n",
       "        <td style=\"padding-left: 1em; padding-right: 1em; text-align: center; vertical-align: top\">[1001544_raw_html.txt,<br>\\n\\n\\n\\n   Dudes With ...</td>\n",
       "        <td style=\"padding-left: 1em; padding-right: 1em; text-align: center; vertical-align: top\">1001544_raw_html.txt</td>\n",
       "        <td style=\"padding-left: 1em; padding-right: 1em; text-align: center; vertical-align: top\">Dudes With Beards With<br>Cats | Pictures of dudes ...</td>\n",
       "        <td style=\"padding-left: 1em; padding-right: 1em; text-align: center; vertical-align: top\">train</td>\n",
       "    </tr>\n",
       "    <tr>\n",
       "        <td style=\"padding-left: 1em; padding-right: 1em; text-align: center; vertical-align: top\">[1001670_raw_html.txt,<br>\\n\\n\\n\\n\\n\\n   Thanks ...</td>\n",
       "        <td style=\"padding-left: 1em; padding-right: 1em; text-align: center; vertical-align: top\">1001670_raw_html.txt</td>\n",
       "        <td style=\"padding-left: 1em; padding-right: 1em; text-align: center; vertical-align: top\">Thanks for Voting - R1\\n<br>\\n\\n  * {\\n\\tmargin: ...</td>\n",
       "        <td style=\"padding-left: 1em; padding-right: 1em; text-align: center; vertical-align: top\">train</td>\n",
       "    </tr>\n",
       "    <tr>\n",
       "        <td style=\"padding-left: 1em; padding-right: 1em; text-align: center; vertical-align: top\">[1002222_raw_html.txt,<br>\\n\\n\\n\\n   snopes.com: ...</td>\n",
       "        <td style=\"padding-left: 1em; padding-right: 1em; text-align: center; vertical-align: top\">1002222_raw_html.txt</td>\n",
       "        <td style=\"padding-left: 1em; padding-right: 1em; text-align: center; vertical-align: top\">snopes.com: Professor<br>Indrek Wichman E-mail\\n ...</td>\n",
       "        <td style=\"padding-left: 1em; padding-right: 1em; text-align: center; vertical-align: top\">train</td>\n",
       "    </tr>\n",
       "    <tr>\n",
       "        <td style=\"padding-left: 1em; padding-right: 1em; text-align: center; vertical-align: top\">[1002774_raw_html.txt,<br>\\n\\n\\n\\n   Mick Jagger ...</td>\n",
       "        <td style=\"padding-left: 1em; padding-right: 1em; text-align: center; vertical-align: top\">1002774_raw_html.txt</td>\n",
       "        <td style=\"padding-left: 1em; padding-right: 1em; text-align: center; vertical-align: top\">Mick Jagger sends up<br>Monty Python before ...</td>\n",
       "        <td style=\"padding-left: 1em; padding-right: 1em; text-align: center; vertical-align: top\">train</td>\n",
       "    </tr>\n",
       "    <tr>\n",
       "        <td style=\"padding-left: 1em; padding-right: 1em; text-align: center; vertical-align: top\">[100278_raw_html.txt,<br>\\n\\n\\n\\n   var ...</td>\n",
       "        <td style=\"padding-left: 1em; padding-right: 1em; text-align: center; vertical-align: top\">100278_raw_html.txt</td>\n",
       "        <td style=\"padding-left: 1em; padding-right: 1em; text-align: center; vertical-align: top\">var<br>ue_t0=window.ue_t0||+new ...</td>\n",
       "        <td style=\"padding-left: 1em; padding-right: 1em; text-align: center; vertical-align: top\">train</td>\n",
       "    </tr>\n",
       "    <tr>\n",
       "        <td style=\"padding-left: 1em; padding-right: 1em; text-align: center; vertical-align: top\">[1002978_raw_html.txt,<br>\\n\\n\\n\\n\\n\\n   var ...</td>\n",
       "        <td style=\"padding-left: 1em; padding-right: 1em; text-align: center; vertical-align: top\">1002978_raw_html.txt</td>\n",
       "        <td style=\"padding-left: 1em; padding-right: 1em; text-align: center; vertical-align: top\">var _sf_startpt=(new<br>Date()).getTime()\\n ...</td>\n",
       "        <td style=\"padding-left: 1em; padding-right: 1em; text-align: center; vertical-align: top\">train</td>\n",
       "    </tr>\n",
       "    <tr>\n",
       "        <td style=\"padding-left: 1em; padding-right: 1em; text-align: center; vertical-align: top\">[1003068_raw_html.txt,<br>\\n\\n\\n\\n\\n\\n\\n\\n\\n\\n\\n ...</td>\n",
       "        <td style=\"padding-left: 1em; padding-right: 1em; text-align: center; vertical-align: top\">1003068_raw_html.txt</td>\n",
       "        <td style=\"padding-left: 1em; padding-right: 1em; text-align: center; vertical-align: top\">How to Make Bacon Infused<br>Vodka - Betty Crocker ...</td>\n",
       "        <td style=\"padding-left: 1em; padding-right: 1em; text-align: center; vertical-align: top\">train</td>\n",
       "    </tr>\n",
       "</table>\n",
       "[10 rows x 4 columns]<br/>\n",
       "</div>"
      ],
      "text/plain": [
       "Columns:\n",
       "\tX1\tlist\n",
       "\tfiles\tstr\n",
       "\thtml\tstr\n",
       "\ttrain\tstr\n",
       "\n",
       "Rows: 10\n",
       "\n",
       "Data:\n",
       "+-------------------------------+----------------------+\n",
       "|               X1              |        files         |\n",
       "+-------------------------------+----------------------+\n",
       "| [1000188_raw_html.txt, \\n\\... | 1000188_raw_html.txt |\n",
       "| [1000662_raw_html.txt, \\n\\... | 1000662_raw_html.txt |\n",
       "| [1000860_raw_html.txt, \\n\\... | 1000860_raw_html.txt |\n",
       "| [1001544_raw_html.txt, \\n\\... | 1001544_raw_html.txt |\n",
       "| [1001670_raw_html.txt, \\n\\... | 1001670_raw_html.txt |\n",
       "| [1002222_raw_html.txt, \\n\\... | 1002222_raw_html.txt |\n",
       "| [1002774_raw_html.txt, \\n\\... | 1002774_raw_html.txt |\n",
       "| [100278_raw_html.txt, \\n\\n... | 100278_raw_html.txt  |\n",
       "| [1002978_raw_html.txt, \\n\\... | 1002978_raw_html.txt |\n",
       "| [1003068_raw_html.txt, \\n\\... | 1003068_raw_html.txt |\n",
       "+-------------------------------+----------------------+\n",
       "+-------------------------------+-------+\n",
       "|              html             | train |\n",
       "+-------------------------------+-------+\n",
       "| The impact of shadow IT\\n ... | train |\n",
       "| (function() { var b=window... | train |\n",
       "| J!NX : J!NX\\n \\n\\n\\n\\n\\n\\n... | train |\n",
       "| Dudes With Beards With Cat... | train |\n",
       "| Thanks for Voting - R1\\n \\... | train |\n",
       "| snopes.com: Professor Indr... | train |\n",
       "| Mick Jagger sends up Monty... | train |\n",
       "| var ue_t0=window.ue_t0||+n... | train |\n",
       "| var _sf_startpt=(new Date(... | train |\n",
       "| How to Make Bacon Infused ... | train |\n",
       "+-------------------------------+-------+\n",
       "[10 rows x 4 columns]"
      ]
     },
     "execution_count": 29,
     "metadata": {},
     "output_type": "execute_result"
    }
   ],
   "source": [
    "sf.head()"
   ]
  },
  {
   "cell_type": "code",
   "execution_count": 30,
   "metadata": {
    "collapsed": false
   },
   "outputs": [
    {
     "name": "stdout",
     "output_type": "stream",
     "text": [
      "PROGRESS: Finished parsing file /Users/ricardo/Documents/GuillermoGaps/spark-1.4.1/Kaggle_competition/train.csv\n",
      "PROGRESS: Parsing completed. Parsed 100 lines in 0.107852 secs.\n",
      "------------------------------------------------------\n",
      "Inferred types from first line of file as \n",
      "column_type_hints=[str,int]\n",
      "If parsing fails due to incorrect types, you can correct\n",
      "the inferred type list above and pass it to read_csv in\n",
      "the column_type_hints argument\n",
      "------------------------------------------------------\n",
      "PROGRESS: Finished parsing file /Users/ricardo/Documents/GuillermoGaps/spark-1.4.1/Kaggle_competition/train.csv\n",
      "PROGRESS: Parsing completed. Parsed 101107 lines in 0.072736 secs.\n"
     ]
    }
   ],
   "source": [
    "train = gl.SFrame('train.csv')"
   ]
  },
  {
   "cell_type": "code",
   "execution_count": 31,
   "metadata": {
    "collapsed": true
   },
   "outputs": [],
   "source": [
    "t = list(train['file'])"
   ]
  },
  {
   "cell_type": "markdown",
   "metadata": {},
   "source": [
    "#Adding a few more features"
   ]
  },
  {
   "cell_type": "code",
   "execution_count": 33,
   "metadata": {
    "collapsed": true
   },
   "outputs": [],
   "source": [
    "new_sf = sf.join(train,on=[\"file\"], how=\"inner\")"
   ]
  },
  {
   "cell_type": "code",
   "execution_count": 35,
   "metadata": {
    "collapsed": true
   },
   "outputs": [],
   "source": [
    "new_sf[\"length_html\"] = new_sf['html'].apply(lambda x: len(x))"
   ]
  },
  {
   "cell_type": "code",
   "execution_count": 37,
   "metadata": {
    "collapsed": true
   },
   "outputs": [],
   "source": [
    "new_sf[\"bag_of_words\"] = gl.text_analytics.count_words(new_sf['html'])"
   ]
  },
  {
   "cell_type": "code",
   "execution_count": 40,
   "metadata": {
    "collapsed": true
   },
   "outputs": [],
   "source": [
    "my_var = gl.text_analytics.tf_idf(gl.text_analytics.count_words(new_sf['html']))"
   ]
  },
  {
   "cell_type": "code",
   "execution_count": 42,
   "metadata": {
    "collapsed": false
   },
   "outputs": [],
   "source": [
    "new_sf[\"tfidf\"] = my_var[\"docs\"]"
   ]
  },
  {
   "cell_type": "markdown",
   "metadata": {},
   "source": [
    "#Removing stop words for tfidf, bigrams and trigrams"
   ]
  },
  {
   "cell_type": "code",
   "execution_count": 44,
   "metadata": {
    "collapsed": true
   },
   "outputs": [],
   "source": [
    "stop_words = gl.text_analytics.stopwords()"
   ]
  },
  {
   "cell_type": "code",
   "execution_count": 45,
   "metadata": {
    "collapsed": false
   },
   "outputs": [],
   "source": [
    "def remove_sw(x):\n",
    "    cleaned = []\n",
    "    for element in x.split():\n",
    "        if element.lower() not in stop_words:\n",
    "            cleaned.append(element)\n",
    "    \n",
    "    return \" \".join(cleaned)\n",
    "\n",
    "new_sf['cleaned_html'] = new_sf['html'].apply(lambda x: remove_sw(x))\n",
    "new_sf['trigrams'] = gl.text_analytics.count_ngrams(new_sf['cleaned_html'], 3, \"word\")\n",
    "new_sf['bigrams'] = gl.text_analytics.count_ngrams(new_sf['cleaned_html'], 2, \"word\")"
   ]
  },
  {
   "cell_type": "code",
   "execution_count": 47,
   "metadata": {
    "collapsed": true
   },
   "outputs": [],
   "source": [
    "new_sf['stop_tfidf'] = new_sf['tfidf'].dict_trim_by_keys(stop_words, exclude=True)"
   ]
  },
  {
   "cell_type": "markdown",
   "metadata": {},
   "source": [
    "#Counting Links, roughly"
   ]
  },
  {
   "cell_type": "code",
   "execution_count": 56,
   "metadata": {
    "collapsed": true
   },
   "outputs": [],
   "source": [
    "new_sf['https']= new_sf[\"html\"].apply(lambda x: x.count(\"https\"))"
   ]
  },
  {
   "cell_type": "code",
   "execution_count": 58,
   "metadata": {
    "collapsed": true
   },
   "outputs": [],
   "source": [
    "new_sf['http']= new_sf[\"html\"].apply(lambda x: x.count(\"http:\"))"
   ]
  },
  {
   "cell_type": "markdown",
   "metadata": {},
   "source": [
    "#Counting \"Sponsor content\" string"
   ]
  },
  {
   "cell_type": "code",
   "execution_count": 60,
   "metadata": {
    "collapsed": true
   },
   "outputs": [],
   "source": [
    "new_sf['sponsor_content'] = new_sf[\"html\"].apply(lambda x: x.lower().count(\"sponsor content\"))"
   ]
  },
  {
   "cell_type": "code",
   "execution_count": 67,
   "metadata": {
    "collapsed": true
   },
   "outputs": [],
   "source": [
    "#Training logistic regression with 'stop_tfidf','bigrams', 'trigrams','length_html' as features"
   ]
  },
  {
   "cell_type": "code",
   "execution_count": 49,
   "metadata": {
    "collapsed": false
   },
   "outputs": [
    {
     "name": "stdout",
     "output_type": "stream",
     "text": [
      "PROGRESS: Creating a validation set from 5 percent of training data. This may take a while.\n",
      "          You can set ``validation_set=None`` to disable validation tracking.\n",
      "\n",
      "PROGRESS: Logistic regression:\n",
      "PROGRESS: --------------------------------------------------------\n",
      "PROGRESS: Number of examples          : 4285\n",
      "PROGRESS: Number of classes           : 2\n",
      "PROGRESS: Number of feature columns   : 4\n",
      "PROGRESS: Number of unpacked features : 9367344\n",
      "PROGRESS: Number of coefficients    : 9367345\n",
      "PROGRESS: Starting L-BFGS\n",
      "PROGRESS: --------------------------------------------------------\n",
      "PROGRESS: +-----------+----------+-----------+--------------+-------------------+---------------------+\n",
      "PROGRESS: | Iteration | Passes   | Step size | Elapsed Time | Training-accuracy | Validation-accuracy |\n",
      "PROGRESS: +-----------+----------+-----------+--------------+-------------------+---------------------+\n",
      "PROGRESS: | 1         | 9        | 0.000006  | 26.483852    | 0.976429          | 0.905405            |\n",
      "PROGRESS: | 2         | 11       | 1.000000  | 35.466236    | 0.994166          | 0.891892            |\n",
      "PROGRESS: | 3         | 12       | 1.000000  | 40.244083    | 0.997666          | 0.891892            |\n",
      "PROGRESS: | 4         | 13       | 1.000000  | 44.246985    | 0.997433          | 0.891892            |\n",
      "PROGRESS: | 5         | 15       | 1.000000  | 53.510259    | 0.998366          | 0.891892            |\n",
      "PROGRESS: | 6         | 16       | 1.000000  | 57.828756    | 0.998366          | 0.891892            |\n",
      "PROGRESS: | 7         | 17       | 1.000000  | 61.938359    | 0.997900          | 0.891892            |\n",
      "PROGRESS: | 8         | 19       | 1.000000  | 68.435866    | 0.998600          | 0.891892            |\n",
      "PROGRESS: | 9         | 20       | 1.000000  | 74.242644    | 0.997433          | 0.891892            |\n",
      "PROGRESS: | 10        | 22       | 1.000000  | 83.574830    | 0.998600          | 0.891892            |\n",
      "PROGRESS: +-----------+----------+-----------+--------------+-------------------+---------------------+\n"
     ]
    }
   ],
   "source": [
    "train_data, test_data = new_sf.random_split(0.8, seed=1234)\n",
    "model_stop_tfidf = gl.logistic_classifier.create(train_data, target='sponsored', features = ['stop_tfidf','bigrams', 'trigrams','length_html'])\n",
    "#predictions = model.predict(test_data)\n",
    "results = model_stop_tfidf.evaluate(test_data)"
   ]
  },
  {
   "cell_type": "code",
   "execution_count": 50,
   "metadata": {
    "collapsed": false
   },
   "outputs": [
    {
     "data": {
      "text/plain": [
       "{'accuracy': 0.9051643192488263, 'confusion_matrix': Columns:\n",
       " \ttarget_label\tint\n",
       " \tpredicted_label\tint\n",
       " \tcount\tint\n",
       " \n",
       " Rows: 4\n",
       " \n",
       " Data:\n",
       " +--------------+-----------------+-------+\n",
       " | target_label | predicted_label | count |\n",
       " +--------------+-----------------+-------+\n",
       " |      1       |        0        |   98  |\n",
       " |      1       |        1        |   22  |\n",
       " |      0       |        0        |  942  |\n",
       " |      0       |        1        |   3   |\n",
       " +--------------+-----------------+-------+\n",
       " [4 rows x 3 columns]}"
      ]
     },
     "execution_count": 50,
     "metadata": {},
     "output_type": "execute_result"
    }
   ],
   "source": [
    "results"
   ]
  },
  {
   "cell_type": "markdown",
   "metadata": {},
   "source": [
    "#Adding new features  'https','http','sponsor_content'"
   ]
  },
  {
   "cell_type": "code",
   "execution_count": 64,
   "metadata": {
    "collapsed": false
   },
   "outputs": [
    {
     "name": "stdout",
     "output_type": "stream",
     "text": [
      "PROGRESS: Creating a validation set from 5 percent of training data. This may take a while.\n",
      "          You can set ``validation_set=None`` to disable validation tracking.\n",
      "\n",
      "PROGRESS: Logistic regression:\n",
      "PROGRESS: --------------------------------------------------------\n",
      "PROGRESS: Number of examples          : 4272\n",
      "PROGRESS: Number of classes           : 2\n",
      "PROGRESS: Number of feature columns   : 7\n",
      "PROGRESS: Number of unpacked features : 9389227\n",
      "PROGRESS: Number of coefficients    : 9389228\n",
      "PROGRESS: Starting L-BFGS\n",
      "PROGRESS: --------------------------------------------------------\n",
      "PROGRESS: +-----------+----------+-----------+--------------+-------------------+---------------------+\n",
      "PROGRESS: | Iteration | Passes   | Step size | Elapsed Time | Training-accuracy | Validation-accuracy |\n",
      "PROGRESS: +-----------+----------+-----------+--------------+-------------------+---------------------+\n",
      "PROGRESS: | 1         | 9        | 0.000006  | 19.568847    | 0.977060          | 0.927660            |\n",
      "PROGRESS: | 2         | 11       | 1.000000  | 24.451804    | 0.993914          | 0.931915            |\n",
      "PROGRESS: | 3         | 12       | 1.000000  | 27.359136    | 0.997191          | 0.931915            |\n",
      "PROGRESS: | 4         | 13       | 1.000000  | 30.767318    | 0.998361          | 0.931915            |\n",
      "PROGRESS: | 5         | 14       | 1.000000  | 34.571952    | 0.999064          | 0.931915            |\n",
      "PROGRESS: | 6         | 15       | 1.000000  | 38.273200    | 0.998596          | 0.931915            |\n",
      "PROGRESS: | 7         | 16       | 1.000000  | 41.494421    | 0.999298          | 0.931915            |\n",
      "PROGRESS: | 8         | 17       | 1.000000  | 44.360605    | 0.999298          | 0.931915            |\n",
      "PROGRESS: | 9         | 18       | 1.000000  | 48.307320    | 0.999064          | 0.931915            |\n",
      "PROGRESS: | 10        | 19       | 1.000000  | 51.414418    | 0.999064          | 0.931915            |\n",
      "PROGRESS: +-----------+----------+-----------+--------------+-------------------+---------------------+\n"
     ]
    }
   ],
   "source": [
    "train_data, test_data = new_sf.random_split(0.8, seed=1234)\n",
    "model_stop_tfidf_2 = gl.logistic_classifier.create(train_data, target='sponsored', features = ['stop_tfidf','bigrams', 'trigrams','length_html','https','http','sponsor_content'])\n",
    "#predictions = model.predict(test_data)\n",
    "results_2 = model_stop_tfidf_2.evaluate(test_data)"
   ]
  },
  {
   "cell_type": "code",
   "execution_count": 65,
   "metadata": {
    "collapsed": false
   },
   "outputs": [
    {
     "data": {
      "text/plain": [
       "{'accuracy': 0.9042253521126761, 'confusion_matrix': Columns:\n",
       " \ttarget_label\tint\n",
       " \tpredicted_label\tint\n",
       " \tcount\tint\n",
       " \n",
       " Rows: 4\n",
       " \n",
       " Data:\n",
       " +--------------+-----------------+-------+\n",
       " | target_label | predicted_label | count |\n",
       " +--------------+-----------------+-------+\n",
       " |      1       |        0        |   95  |\n",
       " |      1       |        1        |   25  |\n",
       " |      0       |        0        |  938  |\n",
       " |      0       |        1        |   7   |\n",
       " +--------------+-----------------+-------+\n",
       " [4 rows x 3 columns]}"
      ]
     },
     "execution_count": 65,
     "metadata": {},
     "output_type": "execute_result"
    }
   ],
   "source": [
    "results_2"
   ]
  },
  {
   "cell_type": "markdown",
   "metadata": {},
   "source": [
    "#Checking for imbalanced data"
   ]
  },
  {
   "cell_type": "code",
   "execution_count": 54,
   "metadata": {
    "collapsed": false
   },
   "outputs": [
    {
     "name": "stdout",
     "output_type": "stream",
     "text": [
      "PROGRESS: Creating a validation set from 5 percent of training data. This may take a while.\n",
      "          You can set ``validation_set=None`` to disable validation tracking.\n",
      "\n",
      "PROGRESS: Logistic regression:\n",
      "PROGRESS: --------------------------------------------------------\n",
      "PROGRESS: Number of examples          : 4269\n",
      "PROGRESS: Number of classes           : 2\n",
      "PROGRESS: Number of feature columns   : 4\n",
      "PROGRESS: Number of unpacked features : 9459148\n",
      "PROGRESS: Number of coefficients    : 9459149\n",
      "PROGRESS: Starting L-BFGS\n",
      "PROGRESS: --------------------------------------------------------\n",
      "PROGRESS: +-----------+----------+-----------+--------------+-------------------+---------------------+\n",
      "PROGRESS: | Iteration | Passes   | Step size | Elapsed Time | Training-accuracy | Validation-accuracy |\n",
      "PROGRESS: +-----------+----------+-----------+--------------+-------------------+---------------------+\n",
      "PROGRESS: | 1         | 8        | 0.000017  | 19.466184    | 0.965566          | 0.663866            |\n",
      "PROGRESS: | 2         | 10       | 1.000000  | 24.975398    | 0.995081          | 0.768908            |\n",
      "PROGRESS: | 3         | 11       | 1.000000  | 28.217244    | 0.997658          | 0.785714            |\n",
      "PROGRESS: | 4         | 12       | 1.000000  | 31.722840    | 0.997658          | 0.789916            |\n",
      "PROGRESS: | 5         | 13       | 1.000000  | 35.607792    | 0.998829          | 0.848739            |\n",
      "PROGRESS: | 6         | 15       | 1.000000  | 43.403919    | 0.999297          | 0.844538            |\n",
      "PROGRESS: | 7         | 16       | 1.000000  | 47.610623    | 0.999297          | 0.844538            |\n",
      "PROGRESS: | 8         | 17       | 1.000000  | 52.056243    | 0.997423          | 0.886555            |\n",
      "PROGRESS: | 9         | 19       | 1.000000  | 58.395830    | 0.999063          | 0.848739            |\n",
      "PROGRESS: | 10        | 20       | 1.000000  | 61.564253    | 0.998595          | 0.848739            |\n",
      "PROGRESS: +-----------+----------+-----------+--------------+-------------------+---------------------+\n"
     ]
    }
   ],
   "source": [
    "model_stop_tfidf_class = gl.logistic_classifier.create(train_data, target='sponsored', features = ['stop_tfidf','bigrams', 'trigrams','length_html'], class_weights = 'auto')\n",
    "results_class = model_stop_tfidf_class.evaluate(test_data)"
   ]
  },
  {
   "cell_type": "code",
   "execution_count": 55,
   "metadata": {
    "collapsed": false
   },
   "outputs": [
    {
     "data": {
      "text/plain": [
       "{'accuracy': 0.8704225352112676, 'confusion_matrix': Columns:\n",
       " \ttarget_label\tint\n",
       " \tpredicted_label\tint\n",
       " \tcount\tint\n",
       " \n",
       " Rows: 4\n",
       " \n",
       " Data:\n",
       " +--------------+-----------------+-------+\n",
       " | target_label | predicted_label | count |\n",
       " +--------------+-----------------+-------+\n",
       " |      0       |        1        |   86  |\n",
       " |      0       |        0        |  859  |\n",
       " |      1       |        0        |   52  |\n",
       " |      1       |        1        |   68  |\n",
       " +--------------+-----------------+-------+\n",
       " [4 rows x 3 columns]}"
      ]
     },
     "execution_count": 55,
     "metadata": {},
     "output_type": "execute_result"
    }
   ],
   "source": [
    "results_class"
   ]
  },
  {
   "cell_type": "markdown",
   "metadata": {},
   "source": [
    "#Trying Boosted Decision trees classifier"
   ]
  },
  {
   "cell_type": "code",
   "execution_count": null,
   "metadata": {
    "collapsed": true
   },
   "outputs": [],
   "source": [
    "model_trees = gl.boosted_trees_classifier.create(train_data, target='sponsored', features= ['stop_tfidf','bigrams', 'trigrams','length_html'])\n",
    "#predicitons = model.classify(test_data)\n",
    "results_trees = model_trees.evaluate(test_data)"
   ]
  },
  {
   "cell_type": "code",
   "execution_count": 53,
   "metadata": {
    "collapsed": false
   },
   "outputs": [
    {
     "data": {
      "text/plain": [
       "{'accuracy': 0.8985915492957747, 'confusion_matrix': Columns:\n",
       " \ttarget_label\tint\n",
       " \tpredicted_label\tint\n",
       " \tcount\tint\n",
       " \n",
       " Rows: 4\n",
       " \n",
       " Data:\n",
       " +--------------+-----------------+-------+\n",
       " | target_label | predicted_label | count |\n",
       " +--------------+-----------------+-------+\n",
       " |      0       |        1        |   5   |\n",
       " |      0       |        0        |  940  |\n",
       " |      1       |        0        |  103  |\n",
       " |      1       |        1        |   17  |\n",
       " +--------------+-----------------+-------+\n",
       " [4 rows x 3 columns]}"
      ]
     },
     "execution_count": 53,
     "metadata": {},
     "output_type": "execute_result"
    }
   ],
   "source": [
    "results_trees"
   ]
  },
  {
   "cell_type": "markdown",
   "metadata": {},
   "source": [
    "#Another parser for later"
   ]
  },
  {
   "cell_type": "code",
   "execution_count": 27,
   "metadata": {
    "collapsed": true
   },
   "outputs": [],
   "source": [
    "from xml.etree.ElementTree import XMLParser\n",
    "\n",
    "class MaxDepth:                     # The target object of the parser\n",
    "     maxDepth = 0\n",
    "     depth = 0\n",
    "     def start(self, tag, attrib):   # Called for each opening tag.\n",
    "         self.depth += 1\n",
    "         if self.depth > self.maxDepth:\n",
    "             self.maxDepth = self.depth\n",
    "     def end(self, tag):             # Called for each closing tag.\n",
    "         self.depth -= 1\n",
    "     def data(self, data):\n",
    "         pass            # We do not need to do anything with data.\n",
    "     def close(self):    # Called when all data has been parsed.\n",
    "         return self.maxDepth\n",
    "\n",
    "def depth(exampleXml):\n",
    "    target = MaxDepth()\n",
    "    parser = XMLParser(target=target)\n",
    "    parser.feed(exampleXml)\n",
    "    return parser.close()"
   ]
  }
 ],
 "metadata": {
  "kernelspec": {
   "display_name": "Python 2",
   "language": "python",
   "name": "python2"
  },
  "language_info": {
   "codemirror_mode": {
    "name": "ipython",
    "version": 2
   },
   "file_extension": ".py",
   "mimetype": "text/x-python",
   "name": "python",
   "nbconvert_exporter": "python",
   "pygments_lexer": "ipython2",
   "version": "2.7.9"
  }
 },
 "nbformat": 4,
 "nbformat_minor": 0
}
