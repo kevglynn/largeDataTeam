{
 "cells": [
  {
   "cell_type": "markdown",
   "metadata": {},
   "source": [
    "# tokenizing non-parsed html\n",
    "*note: below, classes (sponsored & non-sponsored) are represented by 1 and 0, respectively*\n",
    "\n",
    "### load data into rdd and create parser"
   ]
  },
  {
   "cell_type": "code",
   "execution_count": 83,
   "metadata": {
    "collapsed": false
   },
   "outputs": [],
   "source": [
    "path_to_data = \"/Users/kev/largeDataTeam/data/test2/*\"\n",
    "path_to_train = \"/Users/kev/largeDataTeam/data/train.csv\"\n",
    "\n",
    "data = sc.wholeTextFiles(path_to_data)"
   ]
  },
  {
   "cell_type": "markdown",
   "metadata": {},
   "source": [
    "### load training data labels into SFrame"
   ]
  },
  {
   "cell_type": "code",
   "execution_count": 61,
   "metadata": {
    "collapsed": false
   },
   "outputs": [
    {
     "name": "stdout",
     "output_type": "stream",
     "text": [
      "PROGRESS: Finished parsing file /Users/kev/largeDataTeam/data/train.csv\n",
      "PROGRESS: Parsing completed. Parsed 100 lines in 0.569421 secs.\n",
      "------------------------------------------------------\n",
      "Inferred types from first line of file as \n",
      "column_type_hints=[str,int]\n",
      "If parsing fails due to incorrect types, you can correct\n",
      "the inferred type list above and pass it to read_csv in\n",
      "the column_type_hints argument\n",
      "------------------------------------------------------\n",
      "PROGRESS: Finished parsing file /Users/kev/largeDataTeam/data/train.csv\n",
      "PROGRESS: Parsing completed. Parsed 101107 lines in 0.26423 secs.\n"
     ]
    }
   ],
   "source": [
    "import graphlab as gl\n",
    "train = gl.SFrame(path_to_train)"
   ]
  },
  {
   "cell_type": "code",
   "execution_count": 171,
   "metadata": {
    "collapsed": false
   },
   "outputs": [],
   "source": [
    "t = list(train['file'])\n",
    "s = list(train['sponsored'])\n",
    "ts = zip(train['file'],train['sponsored'])"
   ]
  },
  {
   "cell_type": "markdown",
   "metadata": {},
   "source": [
    "### organize and map the data"
   ]
  },
  {
   "cell_type": "code",
   "execution_count": 168,
   "metadata": {
    "collapsed": false
   },
   "outputs": [],
   "source": [
    "mapped_data = data.map(lambda x: [x[0].split(\"/\")[-1],\n",
    "                                  x[1],\n",
    "                                  \"train\" if x[0].split(\"/\")[-1] in t else \"test\",\n",
    "                                  1 if (x[0].split(\"/\")[-1],1) in ts else 0])\n",
    "\n",
    "mapped_train_data = mapped_data.filter(lambda x: x[2]==\"train\")\n",
    "mapped_train_data_0 = mapped_data.filter(lambda x: x[3]==0)\n",
    "mapped_train_data_1 = mapped_data.filter(lambda x: x[3]==1)"
   ]
  },
  {
   "cell_type": "markdown",
   "metadata": {},
   "source": [
    "### adding features to the sframe"
   ]
  },
  {
   "cell_type": "code",
   "execution_count": 169,
   "metadata": {
    "collapsed": false
   },
   "outputs": [],
   "source": [
    "sf = gl.SFrame.from_rdd(mapped_data)\n",
    "sf['file'] = sf['X1'].apply(lambda x: x[0])\n",
    "sf['html'] = sf['X1'].apply(lambda x: x[1])\n",
    "sf['train'] = sf['X1'].apply(lambda x: x[2])\n",
    "sf['class'] = sf['X1'].apply(lambda x: x[3])"
   ]
  },
  {
   "cell_type": "markdown",
   "metadata": {},
   "source": [
    "- preview sframe"
   ]
  },
  {
   "cell_type": "code",
   "execution_count": 170,
   "metadata": {
    "collapsed": false
   },
   "outputs": [
    {
     "data": {
      "text/html": [
       "<div style=\"max-height:1000px;max-width:1500px;overflow:auto;\"><table frame=\"box\" rules=\"cols\">\n",
       "    <tr>\n",
       "        <th style=\"padding-left: 1em; padding-right: 1em; text-align: center\">X1</th>\n",
       "        <th style=\"padding-left: 1em; padding-right: 1em; text-align: center\">file</th>\n",
       "        <th style=\"padding-left: 1em; padding-right: 1em; text-align: center\">html</th>\n",
       "        <th style=\"padding-left: 1em; padding-right: 1em; text-align: center\">train</th>\n",
       "        <th style=\"padding-left: 1em; padding-right: 1em; text-align: center\">class</th>\n",
       "    </tr>\n",
       "    <tr>\n",
       "        <td style=\"padding-left: 1em; padding-right: 1em; text-align: center; vertical-align: top\">[1767762_raw_html.txt,<br>&lt;!DOCTYPE html&gt;\\n&lt;htm ...</td>\n",
       "        <td style=\"padding-left: 1em; padding-right: 1em; text-align: center; vertical-align: top\">1767762_raw_html.txt</td>\n",
       "        <td style=\"padding-left: 1em; padding-right: 1em; text-align: center; vertical-align: top\">&lt;!DOCTYPE html&gt;\\n&lt;html xm<br>lns:fb=\"http://ogp.me ...</td>\n",
       "        <td style=\"padding-left: 1em; padding-right: 1em; text-align: center; vertical-align: top\">train</td>\n",
       "        <td style=\"padding-left: 1em; padding-right: 1em; text-align: center; vertical-align: top\">1</td>\n",
       "    </tr>\n",
       "    <tr>\n",
       "        <td style=\"padding-left: 1em; padding-right: 1em; text-align: center; vertical-align: top\">[3279553_raw_html.txt,<br>&lt;!DOCTYPE html&gt;\\n&lt;!--[if ...</td>\n",
       "        <td style=\"padding-left: 1em; padding-right: 1em; text-align: center; vertical-align: top\">3279553_raw_html.txt</td>\n",
       "        <td style=\"padding-left: 1em; padding-right: 1em; text-align: center; vertical-align: top\">&lt;!DOCTYPE html&gt;\\n&lt;!--[if<br>lt IE 7]&amp;gt;&amp;lt;html ...</td>\n",
       "        <td style=\"padding-left: 1em; padding-right: 1em; text-align: center; vertical-align: top\">train</td>\n",
       "        <td style=\"padding-left: 1em; padding-right: 1em; text-align: center; vertical-align: top\">0</td>\n",
       "    </tr>\n",
       "</table>\n",
       "[2 rows x 5 columns]<br/>\n",
       "</div>"
      ],
      "text/plain": [
       "Columns:\n",
       "\tX1\tlist\n",
       "\tfile\tstr\n",
       "\thtml\tstr\n",
       "\ttrain\tstr\n",
       "\tclass\tint\n",
       "\n",
       "Rows: 2\n",
       "\n",
       "Data:\n",
       "+-------------------------------+----------------------+\n",
       "|               X1              |         file         |\n",
       "+-------------------------------+----------------------+\n",
       "| [1767762_raw_html.txt, <!D... | 1767762_raw_html.txt |\n",
       "| [3279553_raw_html.txt, <!D... | 3279553_raw_html.txt |\n",
       "+-------------------------------+----------------------+\n",
       "+-------------------------------+-------+-------+\n",
       "|              html             | train | class |\n",
       "+-------------------------------+-------+-------+\n",
       "| <!DOCTYPE html>\\n<html xml... | train |   1   |\n",
       "| <!DOCTYPE html>\\n<!--[if l... | train |   0   |\n",
       "+-------------------------------+-------+-------+\n",
       "[2 rows x 5 columns]"
      ]
     },
     "execution_count": 170,
     "metadata": {},
     "output_type": "execute_result"
    }
   ],
   "source": [
    "sf"
   ]
  },
  {
   "cell_type": "markdown",
   "metadata": {},
   "source": [
    "### tokenize the html"
   ]
  },
  {
   "cell_type": "code",
   "execution_count": 197,
   "metadata": {
    "collapsed": false
   },
   "outputs": [],
   "source": [
    "mapped_tokens_0 = mapped_train_data_0.map(lambda x: x[1]).flatMap(lambda a: a.split(' ')).map(lambda word: (word, 1))\n",
    "mapped_tokens_1 = mapped_train_data_1.map(lambda x: x[1]).flatMap(lambda a: a.split(' ')).map(lambda word: (word, 1))\n",
    "\n",
    "from operator import add\n",
    "\n",
    "tokens_0 = mapped_tokens_0.reduceByKey(add)\n",
    "tokens_1 = mapped_tokens_1.reduceByKey(add)"
   ]
  },
  {
   "cell_type": "markdown",
   "metadata": {},
   "source": [
    "- preview results of tokenization"
   ]
  },
  {
   "cell_type": "code",
   "execution_count": 198,
   "metadata": {
    "collapsed": false
   },
   "outputs": [
    {
     "name": "stdout",
     "output_type": "stream",
     "text": [
      "[(u'', 12588), (u\"$('#celebrity-menu').clone().appendTo('#navbar-subnav').attr('id',\", 1), (u'all', 4), (u'src=\"/image-library/land/500/n/xnatalia-kills-credit-famous-1.jpg.pagespeed.ic.ESCoFQwb-D.jpg\"/>\\n', 1), (u'thumbnail\">\\n', 3)]\n",
      "\n",
      "[(u'', 14819), (u'class=\"paragraph\"', 64), (u'Edison', 2), (u'Van', 2), (u'president,', 1)]\n"
     ]
    }
   ],
   "source": [
    "print tokens_0.take(5)\n",
    "print\n",
    "print tokens_1.take(5)"
   ]
  },
  {
   "cell_type": "markdown",
   "metadata": {},
   "source": [
    "### compare the tokens from class 1 and class 0\n",
    "- tokens IN class 1 BUT NOT in class 0\n",
    "- counts excluded"
   ]
  },
  {
   "cell_type": "code",
   "execution_count": 193,
   "metadata": {
    "collapsed": false
   },
   "outputs": [
    {
     "data": {
      "text/plain": [
       "[u'1,800', u'Edison', u'id=\"commentArea\">\\n', u'founder', u'every']"
      ]
     },
     "execution_count": 193,
     "metadata": {},
     "output_type": "execute_result"
    }
   ],
   "source": [
    "tokens_unique_to_class_1 = tokens_1.subtractByKey(tokens_0).map(lambda x: x[0])\n",
    "tokens_unique_to_class_1.take(5)"
   ]
  },
  {
   "cell_type": "markdown",
   "metadata": {},
   "source": [
    "- tokens IN BOTH class 1 AND class 0\n",
    "- counts excluded"
   ]
  },
  {
   "cell_type": "code",
   "execution_count": 190,
   "metadata": {
    "collapsed": false
   },
   "outputs": [
    {
     "data": {
      "text/plain": [
       "[u'', u'<!DOCTYPE', u'go', u'When', u'with']"
      ]
     },
     "execution_count": 190,
     "metadata": {},
     "output_type": "execute_result"
    }
   ],
   "source": [
    "intersect = tokens_0.map(lambda x: x[0]).intersection(tokens_1.map(lambda x: x[0]))\n",
    "intersect.take(5)"
   ]
  },
  {
   "cell_type": "markdown",
   "metadata": {},
   "source": [
    "### put tokens into sframe"
   ]
  },
  {
   "cell_type": "code",
   "execution_count": 202,
   "metadata": {
    "collapsed": false
   },
   "outputs": [],
   "source": [
    "tokens_sf_0 = gl.SFrame.from_rdd(tokens_0.map(lambda x: x[0]))\n",
    "tokens_sf_1 = gl.SFrame.from_rdd(tokens_1.map(lambda x: x[0]))"
   ]
  },
  {
   "cell_type": "code",
   "execution_count": 205,
   "metadata": {
    "collapsed": false
   },
   "outputs": [
    {
     "name": "stdout",
     "output_type": "stream",
     "text": [
      "+--------------------------------+\n",
      "|               X1               |\n",
      "+--------------------------------+\n",
      "|                                |\n",
      "| $('#celebrity-menu').clone...  |\n",
      "|              all               |\n",
      "| src=\"/image-library/land/5...  |\n",
      "|         thumbnail\">\\n          |\n",
      "|    title=\"Entertainment\">\\n    |\n",
      "|        width=\"125\"/>\\n         |\n",
      "| t||(t=r),e.inPlace=s,e.fla...  |\n",
      "|             skip:              |\n",
      "|            comments            |\n",
      "|            css:{\\n             |\n",
      "|          Exclusives\\n          |\n",
      "| information\",this.sourceUR...  |\n",
      "|        href=\"/tv/news/\"        |\n",
      "| src=\"/image-library/land/2...  |\n",
      "|         title=\"rss\">\\n         |\n",
      "| Date();a=s.createElement(o),\\n |\n",
      "|             Watch              |\n",
      "|            finally             |\n",
      "|          '_blank';\\n           |\n",
      "|     class=\"icon-gplus\">\\n      |\n",
      "| Object.defineProperty(t,e,...  |\n",
      "|      'value':Date.now()})      |\n",
      "|     if(FamUserdata.country     |\n",
      "|        'UA-1609907-1',         |\n",
      "+--------------------------------+\n",
      "[1760 rows x 1 columns]\n",
      "\n",
      "+--------------------------------+\n",
      "|               X1               |\n",
      "+--------------------------------+\n",
      "|                                |\n",
      "|       class=\"paragraph\"        |\n",
      "|             Edison             |\n",
      "|              Van               |\n",
      "|           president,           |\n",
      "|            Honda\\n             |\n",
      "|             1,800              |\n",
      "|              all               |\n",
      "|              son.              |\n",
      "|            founded             |\n",
      "|            manager             |\n",
      "|               ga               |\n",
      "|               go               |\n",
      "|           Network\\n            |\n",
      "|      id=\"commentArea\">\\n       |\n",
      "|          Sternberg\\n           |\n",
      "|            Columbia            |\n",
      "|            founder             |\n",
      "|     id=\\\"{{id}}\\\"{{\\/id}}      |\n",
      "|     class=\"blog-header\">\\n     |\n",
      "| Date();a=s.createElement(o),\\n |\n",
      "| s.parentNode.insertBefore(ga,  |\n",
      "|             Award              |\n",
      "|             dance              |\n",
      "|            mother,             |\n",
      "+--------------------------------+\n",
      "[1737 rows x 1 columns]\n",
      "\n"
     ]
    }
   ],
   "source": [
    "tokens_sf_0.print_rows(25)\n",
    "tokens_sf_1.print_rows(25)"
   ]
  },
  {
   "cell_type": "code",
   "execution_count": null,
   "metadata": {
    "collapsed": true
   },
   "outputs": [],
   "source": []
  }
 ],
 "metadata": {
  "kernelspec": {
   "display_name": "Python 2",
   "language": "python",
   "name": "python2"
  },
  "language_info": {
   "codemirror_mode": {
    "name": "ipython",
    "version": 2
   },
   "file_extension": ".py",
   "mimetype": "text/x-python",
   "name": "python",
   "nbconvert_exporter": "python",
   "pygments_lexer": "ipython2",
   "version": "2.7.10"
  }
 },
 "nbformat": 4,
 "nbformat_minor": 0
}
