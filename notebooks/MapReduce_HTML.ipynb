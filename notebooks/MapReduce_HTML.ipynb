{
 "cells": [
  {
   "cell_type": "code",
   "execution_count": 141,
   "metadata": {
    "collapsed": false
   },
   "outputs": [
    {
     "data": {
      "text/plain": [
       "u'1.4.1'"
      ]
     },
     "execution_count": 141,
     "metadata": {},
     "output_type": "execute_result"
    }
   ],
   "source": [
    "sc.version"
   ]
  },
  {
   "cell_type": "code",
   "execution_count": 178,
   "metadata": {
    "collapsed": false
   },
   "outputs": [],
   "source": [
    "path_to_data = \"/Users/kev/largeDataTeam/data_files/*/*\"\n",
    "path_to_train = \"/Users/kev/largeDataTeam/data/train.csv\"\n",
    "\n",
    "data = sc.wholeTextFiles(path_to_data)\n",
    "\n",
    "from bs4 import BeautifulSoup\n",
    "def parser(x):\n",
    "    return BeautifulSoup(x, 'html.parser')"
   ]
  },
  {
   "cell_type": "code",
   "execution_count": 179,
   "metadata": {
    "collapsed": false
   },
   "outputs": [
    {
     "name": "stdout",
     "output_type": "stream",
     "text": [
      "PROGRESS: Finished parsing file /Users/kev/largeDataTeam/data/train.csv\n",
      "PROGRESS: Parsing completed. Parsed 100 lines in 0.64723 secs.\n",
      "------------------------------------------------------\n",
      "Inferred types from first line of file as \n",
      "column_type_hints=[str,int]\n",
      "If parsing fails due to incorrect types, you can correct\n",
      "the inferred type list above and pass it to read_csv in\n",
      "the column_type_hints argument\n",
      "------------------------------------------------------\n",
      "PROGRESS: Finished parsing file /Users/kev/largeDataTeam/data/train.csv\n",
      "PROGRESS: Parsing completed. Parsed 101107 lines in 0.275713 secs.\n"
     ]
    }
   ],
   "source": [
    "import graphlab as gl\n",
    "train = gl.SFrame(path_to_train)\n",
    "t = list(train['file'])"
   ]
  },
  {
   "cell_type": "code",
   "execution_count": 180,
   "metadata": {
    "collapsed": false
   },
   "outputs": [],
   "source": [
    "mapped_data = data.map(lambda x: [x[0].split(\"/\")[-1], parser(x[1]).get_text(), \"train\" if x[0].split(\"/\")[-1] in t else \"test\" ])\n",
    "\n",
    "mapped_train_data = mapped_data.filter(lambda x: x[2]==\"train\")"
   ]
  },
  {
   "cell_type": "code",
   "execution_count": 181,
   "metadata": {
    "collapsed": false
   },
   "outputs": [],
   "source": [
    "tokenized_html = mapped_train_data.map(lambda x: x[1]).flatMap(lambda a: a.split(' ')).map(lambda word: (word, 1))"
   ]
  },
  {
   "cell_type": "code",
   "execution_count": null,
   "metadata": {
    "collapsed": false
   },
   "outputs": [],
   "source": [
    "from operator import add\n",
    "\n",
    "reduced_html = tokenized_html.reduceByKey(add)"
   ]
  },
  {
   "cell_type": "code",
   "execution_count": null,
   "metadata": {
    "collapsed": false
   },
   "outputs": [],
   "source": [
    "print new_reduced_html.take(1)"
   ]
  },
  {
   "cell_type": "code",
   "execution_count": null,
   "metadata": {
    "collapsed": true
   },
   "outputs": [],
   "source": []
  }
 ],
 "metadata": {
  "kernelspec": {
   "display_name": "Python 2",
   "language": "python",
   "name": "python2"
  },
  "language_info": {
   "codemirror_mode": {
    "name": "ipython",
    "version": 2
   },
   "file_extension": ".py",
   "mimetype": "text/x-python",
   "name": "python",
   "nbconvert_exporter": "python",
   "pygments_lexer": "ipython2",
   "version": "2.7.10"
  }
 },
 "nbformat": 4,
 "nbformat_minor": 0
}
